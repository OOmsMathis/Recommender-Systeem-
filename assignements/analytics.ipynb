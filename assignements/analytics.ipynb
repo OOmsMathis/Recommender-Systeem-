{
 "cells": [
  {
   "cell_type": "markdown",
   "metadata": {},
   "source": [
    "# Analytics Module\n",
    "The Analytics module provides descriptive statistics on content data, evidence data and model evaluations "
   ]
  },
  {
   "cell_type": "code",
   "execution_count": 1,
   "metadata": {},
   "outputs": [
    {
     "ename": "ModuleNotFoundError",
     "evalue": "No module named 'constants'",
     "output_type": "error",
     "traceback": [
      "\u001b[1;31m---------------------------------------------------------------------------\u001b[0m",
      "\u001b[1;31mModuleNotFoundError\u001b[0m                       Traceback (most recent call last)",
      "Cell \u001b[1;32mIn[1], line 11\u001b[0m\n\u001b[0;32m      7\u001b[0m \u001b[38;5;28;01mimport\u001b[39;00m\u001b[38;5;250m \u001b[39m\u001b[38;5;21;01mpandas\u001b[39;00m\u001b[38;5;250m \u001b[39m\u001b[38;5;28;01mas\u001b[39;00m\u001b[38;5;250m \u001b[39m\u001b[38;5;21;01mpd\u001b[39;00m\n\u001b[0;32m      8\u001b[0m \u001b[38;5;66;03m# -- add new imports here --\u001b[39;00m\n\u001b[0;32m      9\u001b[0m \n\u001b[0;32m     10\u001b[0m \u001b[38;5;66;03m# local imports\u001b[39;00m\n\u001b[1;32m---> 11\u001b[0m \u001b[38;5;28;01mfrom\u001b[39;00m\u001b[38;5;250m \u001b[39m\u001b[38;5;21;01mconstants\u001b[39;00m\u001b[38;5;250m \u001b[39m\u001b[38;5;28;01mimport\u001b[39;00m Constant \u001b[38;5;28;01mas\u001b[39;00m C\n\u001b[0;32m     12\u001b[0m \u001b[38;5;28;01mfrom\u001b[39;00m\u001b[38;5;250m \u001b[39m\u001b[38;5;21;01mloaders\u001b[39;00m\u001b[38;5;250m \u001b[39m\u001b[38;5;28;01mimport\u001b[39;00m load_ratings\n\u001b[0;32m     13\u001b[0m \u001b[38;5;28;01mfrom\u001b[39;00m\u001b[38;5;250m \u001b[39m\u001b[38;5;21;01mloaders\u001b[39;00m\u001b[38;5;250m \u001b[39m\u001b[38;5;28;01mimport\u001b[39;00m load_items\n",
      "\u001b[1;31mModuleNotFoundError\u001b[0m: No module named 'constants'"
     ]
    }
   ],
   "source": [
    "# reloads modules automatically before entering the execution of code\n",
    "%load_ext autoreload\n",
    "%autoreload 2\n",
    "\n",
    "# third parties imports\n",
    "import numpy as np \n",
    "import pandas as pd\n",
    "# -- add new imports here --\n",
    "\n",
    "# local imports\n",
    "from constants import Constant as C\n",
    "from loaders import load_ratings\n",
    "from loaders import load_items"
   ]
  },
  {
   "cell_type": "markdown",
   "metadata": {},
   "source": [
    "# 1 - Content analytics\n",
    "Explore and perform descriptive statistics on content data"
   ]
  },
  {
   "cell_type": "code",
   "execution_count": null,
   "metadata": {},
   "outputs": [],
   "source": [
    "# -- load the items and display the Dataframe\n",
    "df_items = load_items()\n",
    "print(df_items.head())"
   ]
  },
  {
   "cell_type": "code",
   "execution_count": null,
   "metadata": {},
   "outputs": [],
   "source": [
    "# -- display relevant informations that can be extracted from the dataset\n",
    "n_films = df_items.index.nunique()\n",
    "n_users = df_items['userId'].nunique()\n",
    "\n",
    "print(f'Number of films: {n_films}')\n",
    "print(f'Number of users: {n_users}')"
   ]
  },
  {
   "cell_type": "markdown",
   "metadata": {},
   "source": [
    "# 2 - Evidence analytics\n",
    "Explore and perform descriptive statistics on evidence data"
   ]
  },
  {
   "cell_type": "code",
   "execution_count": null,
   "metadata": {},
   "outputs": [],
   "source": [
    "# -- load the items and display the Dataframe\n",
    "df_ratings = load_ratings()\n",
    "print(df_ratings.head())"
   ]
  },
  {
   "cell_type": "code",
   "execution_count": null,
   "metadata": {},
   "outputs": [],
   "source": [
    "# -- display relevant informations that can be extracted from the dataset\n",
    "n_ratings = df_ratings[\"rating\"].count()\n",
    "n_users = df_ratings[\"userId\"].nunique()\n",
    "n_ratings_films_max = df_ratings[\"movieId\"].value_counts().max() \n",
    "n_ratings_films_min = df_ratings[\"movieId\"].value_counts().min() \n",
    "n_ratings_films_possible = sorted(df_ratings[\"rating\"].unique())\n",
    "n_films_not_rated = df_items.index.nunique() - df_ratings[\"movieId\"].nunique()\n",
    "print(f\"(a) Total number of ratings : {n_ratings}\")\n",
    "print(f\"(b) Total number of unique users : {n_users}\")\n",
    "print(f\"(c)) Total number of unique movies : {n_films}\")\n",
    "print(f\"(d) Number of ratings for the most rated movie : {n_ratings_films_max}\")\n",
    "print(f\"(e) Number of ratings for the less rated movie : {n_ratings_films_min}\")\n",
    "print(f\"(f) All possible rating values : {n_ratings_films_possible}\")\n",
    "print(f\"(g) Number of movies that were not rated at all : {n_films_not_rated}\")"
   ]
  },
  {
   "cell_type": "markdown",
   "metadata": {},
   "source": [
    "# 3 - Plot and sparsity matrix "
   ]
  },
  {
   "cell_type": "code",
   "execution_count": null,
   "metadata": {},
   "outputs": [],
   "source": [
    "#6. Long-tail property \n",
    "import matplotlib.pyplot as plt\n",
    "plt.figure(figsize=(12, 6))\n",
    "rating_counts = df_ratings[\"movieId\"].value_counts()\n",
    "rating_counts_sorted = rating_counts.sort_values(ascending=False)\n",
    "plt.plot(range(1, len(rating_counts_sorted) + 1), rating_counts_sorted.values)\n",
    "plt.xlabel('Rank of movies (from most rated to least rated)')\n",
    "plt.ylabel('Number of ratings')\n",
    "plt.title('Distribution of ratings per movie (Long-tail property)')\n",
    "plt.grid(True)\n",
    "plt.show()"
   ]
  },
  {
   "cell_type": "code",
   "execution_count": null,
   "metadata": {},
   "outputs": [],
   "source": [
    "#7. Ratings matrix sparsity\n",
    "sparsity = 1.0 - (n_ratings / (n_users * n_films))\n",
    "# Source: https://www.jillcates.com/pydata-workshop/html/tutorial.html\n",
    "def create_X(df):\n",
    "    \"\"\"\n",
    "    Generates a sparse matrix from ratings dataframe.\n",
    "\n",
    "    Args:\n",
    "        df: pandas dataframe containing 3 columns (userId, movieId, rating)\n",
    "\n",
    "    Returns:\n",
    "        X: sparse matrix\n",
    "        user_mapper: dict that maps user id's to user indices\n",
    "        user_inv_mapper: dict that maps user indices to user id's\n",
    "        movie_mapper: dict that maps movie id's to movie indices\n",
    "        movie_inv_mapper: dict that maps movie indices to movie id's\n",
    "    \"\"\"\n",
    "    M = df['userId'].nunique()\n",
    "    N = df['movieId'].nunique()\n",
    "\n",
    "    user_mapper = dict(zip(np.unique(df[\"userId\"]), list(range(M))))\n",
    "    movie_mapper = dict(zip(np.unique(df[\"movieId\"]), list(range(N))))\n",
    "\n",
    "    user_inv_mapper = dict(zip(list(range(M)), np.unique(df[\"userId\"])))\n",
    "    movie_inv_mapper = dict(zip(list(range(N)), np.unique(df[\"movieId\"])))\n",
    "\n",
    "    user_index = [user_mapper[i] for i in df['userId']]\n",
    "    item_index = [movie_mapper[i] for i in df['movieId']]\n",
    "\n",
    "    X = csr_matrix((df[\"rating\"], (user_index,item_index)), shape=(M,N))\n",
    "\n",
    "    return X, user_mapper, movie_mapper, user_inv_mapper, movie_inv_mapper\n",
    "\n",
    "X, user_mapper, movie_mapper, user_inv_mapper, movie_inv_mapper = create_X(df_ratings)\n",
    "\n",
    "plt.figure(figsize=(8, 8))\n",
    "plt.spy(X[0:100, 0:100], markersize=1)\n",
    "plt.title(\"Sparse Matrix (100 users x 100 movies)\")\n",
    "plt.xlabel(\"Movies\")\n",
    "plt.ylabel(\"Users\")\n",
    "plt.show()\n",
    "print(f\"Sparsity of the ratings matrix: {sparsity:.2%}\")"
   ]
  }
 ],
 "metadata": {
  "kernelspec": {
   "display_name": "Python 3",
   "language": "python",
   "name": "python3"
  },
  "language_info": {
   "codemirror_mode": {
    "name": "ipython",
    "version": 3
   },
   "file_extension": ".py",
   "mimetype": "text/x-python",
   "name": "python",
   "nbconvert_exporter": "python",
   "pygments_lexer": "ipython3",
   "version": "3.10.0"
  }
 },
 "nbformat": 4,
 "nbformat_minor": 4
}
